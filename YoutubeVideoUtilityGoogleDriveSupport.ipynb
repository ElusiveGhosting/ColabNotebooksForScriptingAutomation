{
  "nbformat": 4,
  "nbformat_minor": 0,
  "metadata": {
    "colab": {
      "name": "YoutubeVideoUtilityGoogleDriveSupport.ipynb",
      "provenance": [],
      "mount_file_id": "1JkqCCVVrj9U3yogQawV2cMsVHkPvmtaU",
      "authorship_tag": "ABX9TyPEBAFoTBA8RF3nZbbqX0FB",
      "include_colab_link": true
    },
    "kernelspec": {
      "name": "python3",
      "display_name": "Python 3"
    },
    "language_info": {
      "name": "python"
    }
  },
  "cells": [
    {
      "cell_type": "markdown",
      "metadata": {
        "id": "view-in-github",
        "colab_type": "text"
      },
      "source": [
        "<a href=\"https://colab.research.google.com/github/ElusiveGhosting/ColabNotebooksForScriptingAutomation/blob/main/YoutubeVideoUtilityGoogleDriveSupport.ipynb\" target=\"_parent\"><img src=\"https://colab.research.google.com/assets/colab-badge.svg\" alt=\"Open In Colab\"/></a>"
      ]
    },
    {
      "cell_type": "code",
      "source": [
        "pip install git+https://github.com/pytube/pytube"
      ],
      "metadata": {
        "id": "WByt_yCrrdIF"
      },
      "execution_count": null,
      "outputs": []
    },
    {
      "cell_type": "code",
      "execution_count": 56,
      "metadata": {
        "id": "Nm-9Y4itqHA4"
      },
      "outputs": [],
      "source": [
        "import sys\n",
        "import argparse\n",
        "import os\n",
        "import shutil\n",
        "import cv2\n",
        "from moviepy.video.io.ffmpeg_tools import ffmpeg_extract_subclip\n",
        "import os\n",
        "from pytube import YouTube"
      ]
    },
    {
      "cell_type": "code",
      "source": [
        "link = input(\"Enter the link:\")\n",
        "yt = YouTube(link)"
      ],
      "metadata": {
        "colab": {
          "base_uri": "https://localhost:8080/"
        },
        "id": "v0R9CyQKri3k",
        "outputId": "cc0e6ee6-203f-47cd-fa10-e3f21dff88fb"
      },
      "execution_count": 42,
      "outputs": [
        {
          "name": "stdout",
          "output_type": "stream",
          "text": [
            "Enter the link:https://www.youtube.com/watch?v=zgUKQCVieWM\n"
          ]
        }
      ]
    },
    {
      "cell_type": "code",
      "source": [
        "start=int(input(\"StartDuration:\"))\n",
        "end=int(input(\"EndDuration:\"))\n",
        "frameRate=int(input(\"FramesPerSecond:\"))  #unecessary until requiremnet is 1 frame per second\n",
        "videoQuality=input(\"Video Quality:\")\n",
        "audioQuality=input(\"Audio Quality:\")"
      ],
      "metadata": {
        "id": "0qqhFmgSri6O"
      },
      "execution_count": null,
      "outputs": []
    },
    {
      "cell_type": "code",
      "source": [
        "audioQuality=160"
      ],
      "metadata": {
        "id": "FmosXBbR4L2Y"
      },
      "execution_count": 44,
      "outputs": []
    },
    {
      "cell_type": "code",
      "source": [
        "#inputs:\n",
        "#video download/frames creation\n",
        "#  https://www.youtube.com/watch?v=aXgoJs7_HDY\n",
        "# 1\n",
        "# 3\n",
        "#audio download\n",
        "# https://www.youtube.com/watch?v=zgUKQCVieWM\n"
      ],
      "metadata": {
        "id": "Uhjsd9lXri9v"
      },
      "execution_count": null,
      "outputs": []
    },
    {
      "cell_type": "code",
      "source": [
        "def extractImagesInDuration(pathIn, pathOut,timeFrameStart,timeFrameEnd):\n",
        "    count = timeFrameStart\n",
        "    vidcap = cv2.VideoCapture(pathIn)\n",
        "    success,image = vidcap.read()\n",
        "    success = True\n",
        "    while success and count < timeFrameEnd :\n",
        "        vidcap.set(cv2.CAP_PROP_POS_MSEC,(count*1000))    # added this line \n",
        "        success,image = vidcap.read()\n",
        "        cv2.imwrite( pathOut + \"\\\\frame%d.jpg\" % count, image)     # save frame as JPEG file\n",
        "        count=count+1\n",
        "    return"
      ],
      "metadata": {
        "id": "Ic20mrXsrjPX"
      },
      "execution_count": 6,
      "outputs": []
    },
    {
      "cell_type": "code",
      "source": [
        "requiredTag=None\n",
        "requiredQuality=str(videoQuality)+\"p\"\n",
        "for stream in yt.streams.filter(only_video=True):\n",
        "  if stream.resolution==requiredQuality and stream.mime_type==\"video/mp4\" and requiredTag is None :\n",
        "    requiredTag=stream.itag\n",
        "print(requiredTag)"
      ],
      "metadata": {
        "colab": {
          "base_uri": "https://localhost:8080/"
        },
        "id": "vdJp91tNrjie",
        "outputId": "229a0cb7-61ae-489a-cf68-d99ef74524b7"
      },
      "execution_count": 24,
      "outputs": [
        {
          "output_type": "stream",
          "name": "stdout",
          "text": [
            "298\n"
          ]
        }
      ]
    },
    {
      "cell_type": "code",
      "source": [
        "ys = yt.streams.get_by_itag(requiredTag)"
      ],
      "metadata": {
        "id": "uDBaA8sOwX4m"
      },
      "execution_count": 25,
      "outputs": []
    },
    {
      "cell_type": "code",
      "source": [
        "Templocation=ys.download()"
      ],
      "metadata": {
        "id": "cEamuYTjxRTb"
      },
      "execution_count": 26,
      "outputs": []
    },
    {
      "cell_type": "code",
      "source": [
        "ffmpeg_extract_subclip(Templocation,0, yt.length, targetname=\"/content/drive/MyDrive/MyAutomatedDownloads/\"+str(yt.title)+\".mp4\")"
      ],
      "metadata": {
        "id": "LnIOQkcYxY6E"
      },
      "execution_count": null,
      "outputs": []
    },
    {
      "cell_type": "code",
      "source": [
        "path = \"/content/drive/MyDrive/MyAutomatedVideoFrames/\"\n",
        "os.chdir(path)\n",
        "os.mkdir(str(yt.title)+\"_FramesOutput\")\n"
      ],
      "metadata": {
        "id": "qVXSqG4HzbW9"
      },
      "execution_count": 34,
      "outputs": []
    },
    {
      "cell_type": "code",
      "source": [
        "extractImagesInDuration(\"/content/drive/MyDrive/MyAutomatedDownloads/\"+str(yt.title)+\".mp4\", \"/content/drive/MyDrive/MyAutomatedVideoFrames/\"+str(yt.title)+\"_FramesOutput/\",2,10)"
      ],
      "metadata": {
        "id": "8RD0fs3Xxf1K"
      },
      "execution_count": 41,
      "outputs": []
    },
    {
      "cell_type": "code",
      "source": [
        "requiredTag=None\n",
        "requiredQuality=str(audioQuality)+\"kbps\"\n",
        "for stream in yt.streams.filter(only_audio=True):\n",
        "  if stream.abr==requiredQuality :\n",
        "    requiredTag=stream.itag"
      ],
      "metadata": {
        "id": "Mgphx0oZ3pG1"
      },
      "execution_count": 55,
      "outputs": []
    },
    {
      "cell_type": "code",
      "source": [
        "ys = yt.streams.get_by_itag(requiredTag)"
      ],
      "metadata": {
        "id": "CEzYywLi5gHO"
      },
      "execution_count": 57,
      "outputs": []
    },
    {
      "cell_type": "code",
      "source": [
        "Templocation=ys.download()"
      ],
      "metadata": {
        "id": "8Q992o5A6JnM"
      },
      "execution_count": 63,
      "outputs": []
    },
    {
      "cell_type": "code",
      "source": [
        "fileName=(Templocation.split(\"/\")[-1]).split(\".\")[0]"
      ],
      "metadata": {
        "id": "r7CQ1ts76_w7"
      },
      "execution_count": 64,
      "outputs": []
    },
    {
      "cell_type": "code",
      "source": [
        "shutil.move(Templocation ,\"/content/drive/MyDrive/MyAutomatedDownloads/\"+fileName+\".mp3\")"
      ],
      "metadata": {
        "colab": {
          "base_uri": "https://localhost:8080/",
          "height": 35
        },
        "id": "N6wt5FeG5hLX",
        "outputId": "b1bb340d-6ed8-4362-dbe4-810906179348"
      },
      "execution_count": 65,
      "outputs": [
        {
          "output_type": "execute_result",
          "data": {
            "text/plain": [
              "'/content/drive/MyDrive/MyAutomatedDownloads/You Stupid Bitch (feat Rachel Bloom) - Crazy Ex-Girlfriend.mp3'"
            ],
            "application/vnd.google.colaboratory.intrinsic+json": {
              "type": "string"
            }
          },
          "metadata": {},
          "execution_count": 65
        }
      ]
    }
  ]
}
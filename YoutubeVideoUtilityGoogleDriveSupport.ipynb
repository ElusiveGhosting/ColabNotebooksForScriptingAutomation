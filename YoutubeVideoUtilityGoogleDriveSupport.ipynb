{
  "nbformat": 4,
  "nbformat_minor": 0,
  "metadata": {
    "colab": {
      "name": "YoutubeVideoUtilityGoogleDriveSupport.ipynb",
      "provenance": [],
      "collapsed_sections": [],
      "authorship_tag": "ABX9TyPZUbYsNsiCoWPOBvDPlU/J",
      "include_colab_link": true
    },
    "kernelspec": {
      "name": "python3",
      "display_name": "Python 3"
    },
    "language_info": {
      "name": "python"
    }
  },
  "cells": [
    {
      "cell_type": "markdown",
      "metadata": {
        "id": "view-in-github",
        "colab_type": "text"
      },
      "source": [
        "<a href=\"https://colab.research.google.com/github/ElusiveGhosting/ColabNotebooksForScriptingAutomation/blob/main/YoutubeVideoUtilityGoogleDriveSupport.ipynb\" target=\"_parent\"><img src=\"https://colab.research.google.com/assets/colab-badge.svg\" alt=\"Open In Colab\"/></a>"
      ]
    },
    {
      "cell_type": "code",
      "source": [
        "pip install git+https://github.com/pytube/pytube"
      ],
      "metadata": {
        "id": "WByt_yCrrdIF",
        "colab": {
          "base_uri": "https://localhost:8080/"
        },
        "outputId": "c9b58ce1-8068-4496-e93a-eed5f0f9d949"
      },
      "execution_count": 1,
      "outputs": [
        {
          "output_type": "stream",
          "name": "stdout",
          "text": [
            "Looking in indexes: https://pypi.org/simple, https://us-python.pkg.dev/colab-wheels/public/simple/\n",
            "Collecting git+https://github.com/pytube/pytube\n",
            "  Cloning https://github.com/pytube/pytube to /tmp/pip-req-build-699k3r6_\n",
            "  Running command git clone -q https://github.com/pytube/pytube /tmp/pip-req-build-699k3r6_\n",
            "Building wheels for collected packages: pytube\n",
            "  Building wheel for pytube (setup.py) ... \u001b[?25l\u001b[?25hdone\n",
            "  Created wheel for pytube: filename=pytube-12.1.0-py3-none-any.whl size=56522 sha256=354342b2a2f145aa7b595d456cc1146283c30e59549f717039bee91ccf67f194\n",
            "  Stored in directory: /tmp/pip-ephem-wheel-cache-i_xdzcu7/wheels/b3/e8/f2/84cd0ef74d9d462fc3f42b04f91eb58ea13e22e5f8408147bf\n",
            "Successfully built pytube\n",
            "Installing collected packages: pytube\n",
            "Successfully installed pytube-12.1.0\n"
          ]
        }
      ]
    },
    {
      "cell_type": "code",
      "execution_count": 2,
      "metadata": {
        "id": "Nm-9Y4itqHA4"
      },
      "outputs": [],
      "source": [
        "import sys\n",
        "import argparse\n",
        "import os\n",
        "import shutil\n",
        "import cv2\n",
        "from moviepy.video.io.ffmpeg_tools import ffmpeg_extract_subclip\n",
        "import os\n",
        "from pytube import YouTube"
      ]
    },
    {
      "cell_type": "code",
      "source": [
        "from google.colab import drive\n",
        "drive.mount('/content/drive')"
      ],
      "metadata": {
        "id": "_sleAG8yKAyX",
        "outputId": "bec82be1-58c2-4985-f74b-eb530a274f1c",
        "colab": {
          "base_uri": "https://localhost:8080/"
        }
      },
      "execution_count": 3,
      "outputs": [
        {
          "output_type": "stream",
          "name": "stdout",
          "text": [
            "Mounted at /content/drive\n"
          ]
        }
      ]
    },
    {
      "cell_type": "code",
      "source": [
        "path = \"/content/drive/MyDrive/\"\n",
        "videoAudioDownloadPath=path+\"MyAutomatedDownloads/\"\n",
        "if os.path.exists(videoAudioDownloadPath):\n",
        "  pass\n",
        "else:\n",
        "  os.mkdir(videoAudioDownloadPath)"
      ],
      "metadata": {
        "id": "4Rt2mp_qBMTh"
      },
      "execution_count": 12,
      "outputs": []
    },
    {
      "cell_type": "code",
      "source": [
        "link = input(\"Enter the link:\")\n",
        "yt = YouTube(link)"
      ],
      "metadata": {
        "id": "v0R9CyQKri3k",
        "colab": {
          "base_uri": "https://localhost:8080/"
        },
        "outputId": "50eb1d2d-1aca-4542-f9fa-9ea759e0a795"
      },
      "execution_count": 13,
      "outputs": [
        {
          "name": "stdout",
          "output_type": "stream",
          "text": [
            "Enter the link:www.youtube.com/watch?v=ImafuPUbb30\n"
          ]
        }
      ]
    },
    {
      "cell_type": "code",
      "source": [
        "def extractImagesInDuration(pathIn, pathOut,timeFrameStart,timeFrameEnd):\n",
        "    count = timeFrameStart\n",
        "    vidcap = cv2.VideoCapture(pathIn)\n",
        "    success,image = vidcap.read()\n",
        "    success = True\n",
        "    while success and count < timeFrameEnd :\n",
        "        vidcap.set(cv2.CAP_PROP_POS_MSEC,(count*1000))    # added this line \n",
        "        success,image = vidcap.read()\n",
        "        cv2.imwrite( pathOut + \"\\\\frame%d.jpg\" % count, image)     # save frame as JPEG file\n",
        "        count=count+1   #signifies 1 frame per second\n",
        "    return"
      ],
      "metadata": {
        "id": "Ic20mrXsrjPX"
      },
      "execution_count": 14,
      "outputs": []
    },
    {
      "cell_type": "code",
      "source": [
        "for stream in yt.streams.filter(only_video=True):\n",
        "  if stream.mime_type==\"video/mp4\" :\n",
        "    print(stream.resolution,\":\",stream.itag)"
      ],
      "metadata": {
        "colab": {
          "base_uri": "https://localhost:8080/"
        },
        "id": "vdJp91tNrjie",
        "outputId": "a8087096-07f4-4cc3-90ca-cd8ad104ad24"
      },
      "execution_count": 15,
      "outputs": [
        {
          "output_type": "stream",
          "name": "stdout",
          "text": [
            "1080p : 137\n",
            "1080p : 399\n",
            "720p : 136\n",
            "720p : 398\n",
            "480p : 135\n",
            "480p : 397\n",
            "360p : 134\n",
            "360p : 396\n",
            "240p : 133\n",
            "240p : 395\n",
            "144p : 160\n",
            "144p : 394\n"
          ]
        }
      ]
    },
    {
      "cell_type": "code",
      "source": [
        "requiredVideoTag=int(input(\"requiredVideoTag:\"))"
      ],
      "metadata": {
        "colab": {
          "base_uri": "https://localhost:8080/"
        },
        "id": "qJsW_AkTAuQc",
        "outputId": "5351aa5d-5c76-410b-9499-cf2026cdbe2e"
      },
      "execution_count": 16,
      "outputs": [
        {
          "name": "stdout",
          "output_type": "stream",
          "text": [
            "requiredVideoTag:137\n"
          ]
        }
      ]
    },
    {
      "cell_type": "code",
      "source": [
        "ys = yt.streams.get_by_itag(requiredVideoTag)"
      ],
      "metadata": {
        "id": "uDBaA8sOwX4m"
      },
      "execution_count": 17,
      "outputs": []
    },
    {
      "cell_type": "code",
      "source": [
        "Templocation=ys.download()"
      ],
      "metadata": {
        "id": "cEamuYTjxRTb"
      },
      "execution_count": 18,
      "outputs": []
    },
    {
      "cell_type": "code",
      "source": [
        "ffmpeg_extract_subclip(Templocation,0, yt.length, targetname=\"/content/drive/MyDrive/MyAutomatedDownloads/\"+str(yt.title)+\".mp4\")  #can modify to just upload slice of a video to google drive"
      ],
      "metadata": {
        "id": "LnIOQkcYxY6E",
        "colab": {
          "base_uri": "https://localhost:8080/"
        },
        "outputId": "842aa3eb-370b-42d8-cf11-2433ca70a8f9"
      },
      "execution_count": 19,
      "outputs": [
        {
          "output_type": "stream",
          "name": "stdout",
          "text": [
            "\n",
            "[MoviePy] Running:\n",
            ">>> /usr/bin/ffmpeg -y -i /content/Kuchizuke Diamond - WEAVER「Yamada-kun and the Seven Witches OP Full Lyrics」.mp4 -ss 0.00 -t 238.00 -vcodec copy -acodec copy /content/drive/MyDrive/MyAutomatedDownloads/Kuchizuke Diamond - WEAVER「Yamada-kun and the Seven Witches OP Full Lyrics」.mp4\n",
            "... command successful.\n"
          ]
        }
      ]
    },
    {
      "cell_type": "code",
      "source": [
        "path = \"/content/drive/MyDrive/MyAutomatedDownloads/\"\n",
        "videoFramesDownloadPath=path+str(yt.title)+\"_FramesOutput/\"\n",
        "if os.path.exists(videoFramesDownloadPath):\n",
        "  pass\n",
        "else:\n",
        "  os.mkdir(videoFramesDownloadPath)"
      ],
      "metadata": {
        "id": "qVXSqG4HzbW9"
      },
      "execution_count": 20,
      "outputs": []
    },
    {
      "cell_type": "code",
      "source": [
        "extractImagesInDuration(\"/content/drive/MyDrive/MyAutomatedDownloads/\"+str(yt.title)+\".mp4\", videoFramesDownloadPath,2,10)"
      ],
      "metadata": {
        "id": "8RD0fs3Xxf1K"
      },
      "execution_count": 21,
      "outputs": []
    },
    {
      "cell_type": "code",
      "source": [
        "for stream in yt.streams.filter(only_audio=True):\n",
        "    print(stream.abr,\":\",stream.itag)"
      ],
      "metadata": {
        "id": "Mgphx0oZ3pG1",
        "colab": {
          "base_uri": "https://localhost:8080/"
        },
        "outputId": "3b86a511-85b5-4522-b37b-40fa135b2a76"
      },
      "execution_count": 22,
      "outputs": [
        {
          "output_type": "stream",
          "name": "stdout",
          "text": [
            "48kbps : 139\n",
            "128kbps : 140\n",
            "50kbps : 249\n",
            "70kbps : 250\n",
            "160kbps : 251\n"
          ]
        }
      ]
    },
    {
      "cell_type": "code",
      "source": [
        "requiredAudioTag=int(input(\"requiredAudioTag:\"))"
      ],
      "metadata": {
        "colab": {
          "base_uri": "https://localhost:8080/"
        },
        "id": "GB2j1MUqNDjd",
        "outputId": "c2e5511b-2c96-496d-c640-4130a34c25c8"
      },
      "execution_count": 23,
      "outputs": [
        {
          "name": "stdout",
          "output_type": "stream",
          "text": [
            "requiredAudioTag:251\n"
          ]
        }
      ]
    },
    {
      "cell_type": "code",
      "source": [
        "ys = yt.streams.get_by_itag(requiredAudioTag)"
      ],
      "metadata": {
        "id": "CEzYywLi5gHO"
      },
      "execution_count": 24,
      "outputs": []
    },
    {
      "cell_type": "code",
      "source": [
        "Templocation=ys.download()"
      ],
      "metadata": {
        "id": "8Q992o5A6JnM"
      },
      "execution_count": 25,
      "outputs": []
    },
    {
      "cell_type": "code",
      "source": [
        "fileName=(Templocation.split(\"/\")[-1]).split(\".\")[0]"
      ],
      "metadata": {
        "id": "r7CQ1ts76_w7"
      },
      "execution_count": 26,
      "outputs": []
    },
    {
      "cell_type": "code",
      "source": [
        "shutil.move(Templocation ,\"/content/drive/MyDrive/MyAutomatedDownloads/\"+fileName+\".mp3\")"
      ],
      "metadata": {
        "id": "N6wt5FeG5hLX",
        "colab": {
          "base_uri": "https://localhost:8080/",
          "height": 52
        },
        "outputId": "4b9a54ba-04b3-422d-c658-e761e49b548e"
      },
      "execution_count": 27,
      "outputs": [
        {
          "output_type": "execute_result",
          "data": {
            "text/plain": [
              "'/content/drive/MyDrive/MyAutomatedDownloads/Kuchizuke Diamond - WEAVER「Yamada-kun and the Seven Witches OP Full Lyrics」.mp3'"
            ],
            "application/vnd.google.colaboratory.intrinsic+json": {
              "type": "string"
            }
          },
          "metadata": {},
          "execution_count": 27
        }
      ]
    }
  ]
}
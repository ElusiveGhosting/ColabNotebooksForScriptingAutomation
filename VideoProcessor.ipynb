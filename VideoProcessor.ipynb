{
  "nbformat": 4,
  "nbformat_minor": 0,
  "metadata": {
    "colab": {
      "name": "VideoProcessor.ipynb",
      "provenance": [],
      "mount_file_id": "1682pFIalTpQnEf45zA0MmkJw_02Q5uJq",
      "authorship_tag": "ABX9TyNKeo3WXDFOe3MM73ipxoJ3",
      "include_colab_link": true
    },
    "kernelspec": {
      "name": "python3",
      "display_name": "Python 3"
    },
    "language_info": {
      "name": "python"
    }
  },
  "cells": [
    {
      "cell_type": "markdown",
      "metadata": {
        "id": "view-in-github",
        "colab_type": "text"
      },
      "source": [
        "<a href=\"https://colab.research.google.com/github/ElusiveGhosting/ColabNotebooksForScriptingAutomation/blob/main/VideoProcessor.ipynb\" target=\"_parent\"><img src=\"https://colab.research.google.com/assets/colab-badge.svg\" alt=\"Open In Colab\"/></a>"
      ]
    },
    {
      "cell_type": "code",
      "execution_count": 20,
      "metadata": {
        "id": "KjLqOdWoxY_c"
      },
      "outputs": [],
      "source": [
        "import sys\n",
        "import argparse\n",
        "import os\n",
        "import cv2\n",
        "from moviepy.video.io.ffmpeg_tools import ffmpeg_extract_subclip\n",
        "import os"
      ]
    },
    {
      "cell_type": "code",
      "source": [
        "def extractImagesAll(pathIn, pathOut,incrementor):\n",
        "    count = 0\n",
        "    vidcap = cv2.VideoCapture(pathIn)\n",
        "    success,image = vidcap.read()\n",
        "    success = True\n",
        "    while success:\n",
        "        vidcap.set(cv2.CAP_PROP_POS_MSEC,(count*1000))    # added this line \n",
        "        success,image = vidcap.read()\n",
        "        cv2.imwrite( pathOut + \"\\\\frame%d.jpg\" % count, image)     # save frame as JPEG file\n",
        "        count = count + 1"
      ],
      "metadata": {
        "id": "vDdRzhmJ7yR7"
      },
      "execution_count": 4,
      "outputs": []
    },
    {
      "cell_type": "code",
      "source": [
        "def extractImagesSIngleFrame(pathIn, pathOut,timeFrame):\n",
        "    count = 0\n",
        "    vidcap = cv2.VideoCapture(pathIn)\n",
        "    success,image = vidcap.read()\n",
        "    success = True\n",
        "    while success:\n",
        "        vidcap.set(cv2.CAP_PROP_POS_MSEC,(timeFrame*1000))    # added this line \n",
        "        success,image = vidcap.read()\n",
        "        cv2.imwrite( pathOut + \"\\\\frame%d.jpg\" % count, image)     # save frame as JPEG file\n",
        "        break\n",
        "    return"
      ],
      "metadata": {
        "id": "CjivN5DK-YpT"
      },
      "execution_count": 6,
      "outputs": []
    },
    {
      "cell_type": "code",
      "source": [
        "def extractImagesInDuration(pathIn, pathOut,timeFrameStart,timeFrameEnd):\n",
        "    count = timeFrameStart\n",
        "    vidcap = cv2.VideoCapture(pathIn)\n",
        "    success,image = vidcap.read()\n",
        "    success = True\n",
        "    while success and count < timeFrameEnd :\n",
        "        vidcap.set(cv2.CAP_PROP_POS_MSEC,(count*1000))    # added this line \n",
        "        success,image = vidcap.read()\n",
        "        cv2.imwrite( pathOut + \"\\\\frame%d.jpg\" % count, image)     # save frame as JPEG file\n",
        "        count=count+1\n",
        "    return"
      ],
      "metadata": {
        "id": "s17whcfD_kux"
      },
      "execution_count": 9,
      "outputs": []
    },
    {
      "cell_type": "code",
      "source": [
        "ffmpeg_extract_subclip(\"/content/drive/MyDrive/VideosProcessingTesting/Arabic Kuthu - Video Song - Beast - Thalapathy Vijay - Pooja Hegde - Sun Pictures - Nelson - Anirudh.mp4\", 70, 85, targetname=\"/content/drive/MyDrive/VideoProcessingResult/Video1Frames/test.mp4\")"
      ],
      "metadata": {
        "id": "y3YDZWMCCqvJ"
      },
      "execution_count": null,
      "outputs": []
    },
    {
      "cell_type": "code",
      "source": [
        "extractImagesInDuration(\"/content/drive/MyDrive/VideosProcessingTesting/Arabic Kuthu - Video Song - Beast - Thalapathy Vijay - Pooja Hegde - Sun Pictures - Nelson - Anirudh.mp4\", \"/content/drive/MyDrive/VideoProcessingResult/Video1Frames/\",70,85,)"
      ],
      "metadata": {
        "id": "djLz59I64XWo"
      },
      "execution_count": 11,
      "outputs": []
    }
  ]
}
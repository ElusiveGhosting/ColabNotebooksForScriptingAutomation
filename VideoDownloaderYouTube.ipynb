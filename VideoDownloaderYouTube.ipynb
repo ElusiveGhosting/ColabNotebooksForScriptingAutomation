{
  "nbformat": 4,
  "nbformat_minor": 0,
  "metadata": {
    "colab": {
      "name": "VideoDownloaderYouTube.ipynb",
      "provenance": [],
      "mount_file_id": "1XGD9YaErCZDJkZmqOIOtj5euW6jhvhkM",
      "authorship_tag": "ABX9TyMC/zB2lkziuJjTZHmYtWim",
      "include_colab_link": true
    },
    "kernelspec": {
      "name": "python3",
      "display_name": "Python 3"
    },
    "language_info": {
      "name": "python"
    }
  },
  "cells": [
    {
      "cell_type": "markdown",
      "metadata": {
        "id": "view-in-github",
        "colab_type": "text"
      },
      "source": [
        "<a href=\"https://colab.research.google.com/github/ElusiveGhosting/ColabNotebooksForScriptingAutomation/blob/main/VideoDownloaderYouTube.ipynb\" target=\"_parent\"><img src=\"https://colab.research.google.com/assets/colab-badge.svg\" alt=\"Open In Colab\"/></a>"
      ]
    },
    {
      "cell_type": "code",
      "source": [
        "pip install git+https://github.com/pytube/pytube"
      ],
      "metadata": {
        "id": "bb0zKc7Khsoz",
        "outputId": "f0ed4218-a7d7-458f-feb7-d85660375583",
        "colab": {
          "base_uri": "https://localhost:8080/",
          "height": 297
        }
      },
      "execution_count": 12,
      "outputs": [
        {
          "output_type": "stream",
          "name": "stdout",
          "text": [
            "Collecting git+https://github.com/pytube/pytube\n",
            "  Cloning https://github.com/pytube/pytube to /tmp/pip-req-build-c95escg9\n",
            "  Running command git clone -q https://github.com/pytube/pytube /tmp/pip-req-build-c95escg9\n",
            "Building wheels for collected packages: pytube\n",
            "  Building wheel for pytube (setup.py) ... \u001b[?25l\u001b[?25hdone\n",
            "  Created wheel for pytube: filename=pytube-12.1.0-py3-none-any.whl size=56522 sha256=764a23c85068a1c7989ecd84eb7bcc41da06d2c1f7bd13ac9ee23481e6fed81a\n",
            "  Stored in directory: /tmp/pip-ephem-wheel-cache-5y1gn4kk/wheels/b3/e8/f2/84cd0ef74d9d462fc3f42b04f91eb58ea13e22e5f8408147bf\n",
            "Successfully built pytube\n",
            "Installing collected packages: pytube\n",
            "Successfully installed pytube-12.1.0\n"
          ]
        },
        {
          "output_type": "display_data",
          "data": {
            "application/vnd.colab-display-data+json": {
              "pip_warning": {
                "packages": [
                  "pytube"
                ]
              }
            }
          },
          "metadata": {}
        }
      ]
    },
    {
      "cell_type": "code",
      "source": [
        "from pytube import YouTube"
      ],
      "metadata": {
        "id": "E9PHIfg0hsyR"
      },
      "execution_count": 1,
      "outputs": []
    },
    {
      "cell_type": "code",
      "source": [
        "#link = input(\"Enter the link:\")\n",
        "yt = YouTube(\"https://youtu.be/KUN5Uf9mObQ\")"
      ],
      "metadata": {
        "id": "zWtxSyb5fZN5"
      },
      "execution_count": 2,
      "outputs": []
    },
    {
      "cell_type": "code",
      "source": [
        "for stream in yt.streams.filter(only_video=True):\n",
        "  print(stream)"
      ],
      "metadata": {
        "id": "FxkvjdX7idzK",
        "outputId": "fea807b7-9591-4679-d0ab-0c0e40680987",
        "colab": {
          "base_uri": "https://localhost:8080/"
        }
      },
      "execution_count": 6,
      "outputs": [
        {
          "output_type": "stream",
          "name": "stdout",
          "text": [
            "<Stream: itag=\"313\" mime_type=\"video/webm\" res=\"2160p\" fps=\"25fps\" vcodec=\"vp9\" progressive=\"False\" type=\"video\">\n",
            "<Stream: itag=\"401\" mime_type=\"video/mp4\" res=\"2160p\" fps=\"25fps\" vcodec=\"av01.0.12M.08\" progressive=\"False\" type=\"video\">\n",
            "<Stream: itag=\"271\" mime_type=\"video/webm\" res=\"1440p\" fps=\"25fps\" vcodec=\"vp9\" progressive=\"False\" type=\"video\">\n",
            "<Stream: itag=\"400\" mime_type=\"video/mp4\" res=\"1440p\" fps=\"25fps\" vcodec=\"av01.0.12M.08\" progressive=\"False\" type=\"video\">\n",
            "<Stream: itag=\"137\" mime_type=\"video/mp4\" res=\"1080p\" fps=\"25fps\" vcodec=\"avc1.640028\" progressive=\"False\" type=\"video\">\n",
            "<Stream: itag=\"248\" mime_type=\"video/webm\" res=\"1080p\" fps=\"25fps\" vcodec=\"vp9\" progressive=\"False\" type=\"video\">\n",
            "<Stream: itag=\"399\" mime_type=\"video/mp4\" res=\"1080p\" fps=\"25fps\" vcodec=\"av01.0.08M.08\" progressive=\"False\" type=\"video\">\n",
            "<Stream: itag=\"136\" mime_type=\"video/mp4\" res=\"720p\" fps=\"25fps\" vcodec=\"avc1.4d401f\" progressive=\"False\" type=\"video\">\n",
            "<Stream: itag=\"247\" mime_type=\"video/webm\" res=\"720p\" fps=\"25fps\" vcodec=\"vp9\" progressive=\"False\" type=\"video\">\n",
            "<Stream: itag=\"398\" mime_type=\"video/mp4\" res=\"720p\" fps=\"25fps\" vcodec=\"av01.0.05M.08\" progressive=\"False\" type=\"video\">\n",
            "<Stream: itag=\"135\" mime_type=\"video/mp4\" res=\"480p\" fps=\"25fps\" vcodec=\"avc1.4d401e\" progressive=\"False\" type=\"video\">\n",
            "<Stream: itag=\"244\" mime_type=\"video/webm\" res=\"480p\" fps=\"25fps\" vcodec=\"vp9\" progressive=\"False\" type=\"video\">\n",
            "<Stream: itag=\"397\" mime_type=\"video/mp4\" res=\"480p\" fps=\"25fps\" vcodec=\"av01.0.04M.08\" progressive=\"False\" type=\"video\">\n",
            "<Stream: itag=\"134\" mime_type=\"video/mp4\" res=\"360p\" fps=\"25fps\" vcodec=\"avc1.4d401e\" progressive=\"False\" type=\"video\">\n",
            "<Stream: itag=\"243\" mime_type=\"video/webm\" res=\"360p\" fps=\"25fps\" vcodec=\"vp9\" progressive=\"False\" type=\"video\">\n",
            "<Stream: itag=\"396\" mime_type=\"video/mp4\" res=\"360p\" fps=\"25fps\" vcodec=\"av01.0.01M.08\" progressive=\"False\" type=\"video\">\n",
            "<Stream: itag=\"133\" mime_type=\"video/mp4\" res=\"240p\" fps=\"25fps\" vcodec=\"avc1.4d4015\" progressive=\"False\" type=\"video\">\n",
            "<Stream: itag=\"242\" mime_type=\"video/webm\" res=\"240p\" fps=\"25fps\" vcodec=\"vp9\" progressive=\"False\" type=\"video\">\n",
            "<Stream: itag=\"395\" mime_type=\"video/mp4\" res=\"240p\" fps=\"25fps\" vcodec=\"av01.0.00M.08\" progressive=\"False\" type=\"video\">\n",
            "<Stream: itag=\"160\" mime_type=\"video/mp4\" res=\"144p\" fps=\"25fps\" vcodec=\"avc1.4d400c\" progressive=\"False\" type=\"video\">\n",
            "<Stream: itag=\"278\" mime_type=\"video/webm\" res=\"144p\" fps=\"25fps\" vcodec=\"vp9\" progressive=\"False\" type=\"video\">\n",
            "<Stream: itag=\"394\" mime_type=\"video/mp4\" res=\"144p\" fps=\"25fps\" vcodec=\"av01.0.00M.08\" progressive=\"False\" type=\"video\">\n"
          ]
        }
      ]
    },
    {
      "cell_type": "code",
      "source": [
        "ys = yt.streams.get_by_itag('313')"
      ],
      "metadata": {
        "id": "1_JJSYlQirl9"
      },
      "execution_count": 7,
      "outputs": []
    },
    {
      "cell_type": "code",
      "source": [
        "ys.download()"
      ],
      "metadata": {
        "colab": {
          "base_uri": "https://localhost:8080/",
          "height": 52
        },
        "id": "el1JJRdafZVE",
        "outputId": "bb6cdf24-416c-4ef0-f1c9-41df59bf9b5f"
      },
      "execution_count": 8,
      "outputs": [
        {
          "output_type": "execute_result",
          "data": {
            "text/plain": [
              "'/content/Arabic Kuthu - Video Song  Beast  Thalapathy Vijay  Pooja Hegde  Sun Pictures  Nelson  Anirudh.webm'"
            ],
            "application/vnd.google.colaboratory.intrinsic+json": {
              "type": "string"
            }
          },
          "metadata": {},
          "execution_count": 8
        }
      ]
    }
  ]
}